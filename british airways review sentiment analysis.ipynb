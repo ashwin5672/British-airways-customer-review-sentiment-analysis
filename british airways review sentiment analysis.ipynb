{
 "cells": [
  {
   "cell_type": "code",
   "execution_count": 1,
   "id": "b75e6aba",
   "metadata": {},
   "outputs": [],
   "source": [
    "import pandas as pd"
   ]
  },
  {
   "cell_type": "code",
   "execution_count": 2,
   "id": "914f7857",
   "metadata": {},
   "outputs": [],
   "source": [
    "df=pd.read_csv('british-airways.csv')"
   ]
  },
  {
   "cell_type": "code",
   "execution_count": 3,
   "id": "259c31cf",
   "metadata": {},
   "outputs": [
    {
     "data": {
      "text/html": [
       "<div>\n",
       "<style scoped>\n",
       "    .dataframe tbody tr th:only-of-type {\n",
       "        vertical-align: middle;\n",
       "    }\n",
       "\n",
       "    .dataframe tbody tr th {\n",
       "        vertical-align: top;\n",
       "    }\n",
       "\n",
       "    .dataframe thead th {\n",
       "        text-align: right;\n",
       "    }\n",
       "</style>\n",
       "<table border=\"1\" class=\"dataframe\">\n",
       "  <thead>\n",
       "    <tr style=\"text-align: right;\">\n",
       "      <th></th>\n",
       "      <th>title</th>\n",
       "      <th>rating</th>\n",
       "      <th>review_date</th>\n",
       "      <th>review</th>\n",
       "      <th>trip_verified</th>\n",
       "      <th>aircraft</th>\n",
       "      <th>type_of_traveller</th>\n",
       "      <th>seat_type</th>\n",
       "      <th>route</th>\n",
       "      <th>date_flown</th>\n",
       "      <th>seat_comfort</th>\n",
       "      <th>cabin_staff_service</th>\n",
       "      <th>food_and_beverages</th>\n",
       "      <th>ground_service</th>\n",
       "      <th>value_for_money</th>\n",
       "      <th>wifi_and_connecticity</th>\n",
       "      <th>recommend</th>\n",
       "      <th>wifi_and_connectivity</th>\n",
       "    </tr>\n",
       "  </thead>\n",
       "  <tbody>\n",
       "    <tr>\n",
       "      <th>0</th>\n",
       "      <td>\"Will honestly never fly them again if I can h...</td>\n",
       "      <td>4</td>\n",
       "      <td>19/11/2022</td>\n",
       "      <td>Flew from Amman to London on Nov. 14 2022. Not...</td>\n",
       "      <td>True</td>\n",
       "      <td>NaN</td>\n",
       "      <td>Solo Leisure</td>\n",
       "      <td>Premium Economy</td>\n",
       "      <td>Amman Jordan to London UK (Heathrow)</td>\n",
       "      <td>Nov-22</td>\n",
       "      <td>3.0</td>\n",
       "      <td>2.0</td>\n",
       "      <td>NaN</td>\n",
       "      <td>4.0</td>\n",
       "      <td>2</td>\n",
       "      <td>NaN</td>\n",
       "      <td>False</td>\n",
       "      <td>NaN</td>\n",
       "    </tr>\n",
       "    <tr>\n",
       "      <th>1</th>\n",
       "      <td>\"Very unprofessional for a renowned airline li...</td>\n",
       "      <td>1</td>\n",
       "      <td>19/11/2022</td>\n",
       "      <td>This is the worst experience I have ever had w...</td>\n",
       "      <td>True</td>\n",
       "      <td>NaN</td>\n",
       "      <td>Solo Leisure</td>\n",
       "      <td>Economy Class</td>\n",
       "      <td>Dusseldorf to London via Los Angeles</td>\n",
       "      <td>Aug-22</td>\n",
       "      <td>1.0</td>\n",
       "      <td>1.0</td>\n",
       "      <td>&lt;span class=\"star fill\"&gt;1&lt;/span&gt;</td>\n",
       "      <td>1.0</td>\n",
       "      <td>1</td>\n",
       "      <td>NaN</td>\n",
       "      <td>False</td>\n",
       "      <td>1.0</td>\n",
       "    </tr>\n",
       "    <tr>\n",
       "      <th>2</th>\n",
       "      <td>\"lounge was overcrowded and worn out\"</td>\n",
       "      <td>2</td>\n",
       "      <td>18/11/2022</td>\n",
       "      <td>Flying LHR T5 to CPT November 2022:  BA app an...</td>\n",
       "      <td>True</td>\n",
       "      <td>Boeing 777</td>\n",
       "      <td>Solo Leisure</td>\n",
       "      <td>Business Class</td>\n",
       "      <td>London to Cape Town</td>\n",
       "      <td>Nov-22</td>\n",
       "      <td>4.0</td>\n",
       "      <td>2.0</td>\n",
       "      <td>&lt;span class=\"star fill\"&gt;4&lt;/span&gt;</td>\n",
       "      <td>1.0</td>\n",
       "      <td>1</td>\n",
       "      <td>NaN</td>\n",
       "      <td>False</td>\n",
       "      <td>NaN</td>\n",
       "    </tr>\n",
       "    <tr>\n",
       "      <th>3</th>\n",
       "      <td>\"very uncomfortable trip\"</td>\n",
       "      <td>1</td>\n",
       "      <td>07/11/2022</td>\n",
       "      <td>Not Verified | Worst experience ever. Outbound...</td>\n",
       "      <td>False</td>\n",
       "      <td>NaN</td>\n",
       "      <td>Solo Leisure</td>\n",
       "      <td>Economy Class</td>\n",
       "      <td>Milan to Dallas via London</td>\n",
       "      <td>Nov-22</td>\n",
       "      <td>2.0</td>\n",
       "      <td>5.0</td>\n",
       "      <td>&lt;span class=\"star fill\"&gt;2&lt;/span&gt;</td>\n",
       "      <td>2.0</td>\n",
       "      <td>1</td>\n",
       "      <td>NaN</td>\n",
       "      <td>False</td>\n",
       "      <td>2.0</td>\n",
       "    </tr>\n",
       "    <tr>\n",
       "      <th>4</th>\n",
       "      <td>\"rate this just as a mediocre journey\"</td>\n",
       "      <td>5</td>\n",
       "      <td>07/11/2022</td>\n",
       "      <td>Check in was a shambles at BWI, just 3 counter...</td>\n",
       "      <td>True</td>\n",
       "      <td>Boeing 787-8</td>\n",
       "      <td>Solo Leisure</td>\n",
       "      <td>Economy Class</td>\n",
       "      <td>Baltimore to London Heathrow</td>\n",
       "      <td>Nov-22</td>\n",
       "      <td>1.0</td>\n",
       "      <td>3.0</td>\n",
       "      <td>&lt;span class=\"star fill\"&gt;1&lt;/span&gt;</td>\n",
       "      <td>2.0</td>\n",
       "      <td>3</td>\n",
       "      <td>NaN</td>\n",
       "      <td>True</td>\n",
       "      <td>NaN</td>\n",
       "    </tr>\n",
       "  </tbody>\n",
       "</table>\n",
       "</div>"
      ],
      "text/plain": [
       "                                               title  rating review_date  \\\n",
       "0  \"Will honestly never fly them again if I can h...       4  19/11/2022   \n",
       "1  \"Very unprofessional for a renowned airline li...       1  19/11/2022   \n",
       "2              \"lounge was overcrowded and worn out\"       2  18/11/2022   \n",
       "3                          \"very uncomfortable trip\"       1  07/11/2022   \n",
       "4             \"rate this just as a mediocre journey\"       5  07/11/2022   \n",
       "\n",
       "                                              review  trip_verified  \\\n",
       "0  Flew from Amman to London on Nov. 14 2022. Not...           True   \n",
       "1  This is the worst experience I have ever had w...           True   \n",
       "2  Flying LHR T5 to CPT November 2022:  BA app an...           True   \n",
       "3  Not Verified | Worst experience ever. Outbound...          False   \n",
       "4  Check in was a shambles at BWI, just 3 counter...           True   \n",
       "\n",
       "       aircraft type_of_traveller        seat_type  \\\n",
       "0           NaN      Solo Leisure  Premium Economy   \n",
       "1           NaN      Solo Leisure    Economy Class   \n",
       "2    Boeing 777      Solo Leisure   Business Class   \n",
       "3           NaN      Solo Leisure    Economy Class   \n",
       "4  Boeing 787-8      Solo Leisure    Economy Class   \n",
       "\n",
       "                                  route date_flown  seat_comfort  \\\n",
       "0  Amman Jordan to London UK (Heathrow)     Nov-22           3.0   \n",
       "1  Dusseldorf to London via Los Angeles     Aug-22           1.0   \n",
       "2                   London to Cape Town     Nov-22           4.0   \n",
       "3           Milan to Dallas via London      Nov-22           2.0   \n",
       "4          Baltimore to London Heathrow     Nov-22           1.0   \n",
       "\n",
       "   cabin_staff_service                food_and_beverages  ground_service  \\\n",
       "0                  2.0                               NaN             4.0   \n",
       "1                  1.0  <span class=\"star fill\">1</span>             1.0   \n",
       "2                  2.0  <span class=\"star fill\">4</span>             1.0   \n",
       "3                  5.0  <span class=\"star fill\">2</span>             2.0   \n",
       "4                  3.0  <span class=\"star fill\">1</span>             2.0   \n",
       "\n",
       "   value_for_money  wifi_and_connecticity  recommend  wifi_and_connectivity  \n",
       "0                2                    NaN      False                    NaN  \n",
       "1                1                    NaN      False                    1.0  \n",
       "2                1                    NaN      False                    NaN  \n",
       "3                1                    NaN      False                    2.0  \n",
       "4                3                    NaN       True                    NaN  "
      ]
     },
     "execution_count": 3,
     "metadata": {},
     "output_type": "execute_result"
    }
   ],
   "source": [
    "df.head()"
   ]
  },
  {
   "cell_type": "code",
   "execution_count": 4,
   "id": "5bdbac0d",
   "metadata": {},
   "outputs": [
    {
     "data": {
      "text/plain": [
       "title                       0\n",
       "rating                      0\n",
       "review_date                 0\n",
       "review                      0\n",
       "trip_verified               0\n",
       "aircraft                  480\n",
       "type_of_traveller           1\n",
       "seat_type                   0\n",
       "route                       2\n",
       "date_flown                  0\n",
       "seat_comfort               76\n",
       "cabin_staff_service        83\n",
       "food_and_beverages        530\n",
       "ground_service             53\n",
       "value_for_money             0\n",
       "wifi_and_connecticity    1200\n",
       "recommend                   0\n",
       "wifi_and_connectivity     913\n",
       "dtype: int64"
      ]
     },
     "execution_count": 4,
     "metadata": {},
     "output_type": "execute_result"
    }
   ],
   "source": [
    "df.isnull().sum()"
   ]
  },
  {
   "cell_type": "code",
   "execution_count": 5,
   "id": "c2f34e0a",
   "metadata": {},
   "outputs": [
    {
     "data": {
      "text/plain": [
       "0       \"Will honestly never fly them again if I can h...\n",
       "1       \"Very unprofessional for a renowned airline li...\n",
       "2                   \"lounge was overcrowded and worn out\"\n",
       "3                               \"very uncomfortable trip\"\n",
       "4                  \"rate this just as a mediocre journey\"\n",
       "                              ...                        \n",
       "1195                \"nice flight with good cabin service\"\n",
       "1196                     \"they are just an embarrassment\"\n",
       "1197                             \"very good flight again\"\n",
       "1198                           \"expensive at £343 return\"\n",
       "1199                      \"staff were extremely friendly\"\n",
       "Name: title, Length: 1200, dtype: object"
      ]
     },
     "execution_count": 5,
     "metadata": {},
     "output_type": "execute_result"
    }
   ],
   "source": [
    "df['title']"
   ]
  },
  {
   "cell_type": "code",
   "execution_count": 7,
   "id": "4a54314c",
   "metadata": {},
   "outputs": [
    {
     "name": "stdout",
     "output_type": "stream",
     "text": [
      "Collecting spacy\n",
      "  Downloading spacy-3.5.0-cp39-cp39-win_amd64.whl (12.2 MB)\n",
      "Collecting spacy-loggers<2.0.0,>=1.0.0\n",
      "  Downloading spacy_loggers-1.0.4-py3-none-any.whl (11 kB)\n",
      "Collecting smart-open<7.0.0,>=5.2.1\n",
      "  Downloading smart_open-6.3.0-py3-none-any.whl (56 kB)\n",
      "Requirement already satisfied: jinja2 in c:\\users\\ashwin\\anaconda3\\lib\\site-packages (from spacy) (2.11.3)\n",
      "Requirement already satisfied: setuptools in c:\\users\\ashwin\\anaconda3\\lib\\site-packages (from spacy) (61.2.0)\n",
      "Collecting cymem<2.1.0,>=2.0.2\n",
      "  Downloading cymem-2.0.7-cp39-cp39-win_amd64.whl (30 kB)\n",
      "Collecting preshed<3.1.0,>=3.0.2\n",
      "  Downloading preshed-3.0.8-cp39-cp39-win_amd64.whl (96 kB)\n",
      "Requirement already satisfied: numpy>=1.15.0 in c:\\users\\ashwin\\anaconda3\\lib\\site-packages (from spacy) (1.21.5)\n",
      "Collecting srsly<3.0.0,>=2.4.3\n",
      "  Downloading srsly-2.4.5-cp39-cp39-win_amd64.whl (481 kB)\n",
      "Requirement already satisfied: requests<3.0.0,>=2.13.0 in c:\\users\\ashwin\\anaconda3\\lib\\site-packages (from spacy) (2.27.1)\n",
      "Collecting langcodes<4.0.0,>=3.2.0\n",
      "  Downloading langcodes-3.3.0-py3-none-any.whl (181 kB)\n",
      "Collecting spacy-legacy<3.1.0,>=3.0.11\n",
      "  Downloading spacy_legacy-3.0.12-py2.py3-none-any.whl (29 kB)\n",
      "Collecting typer<0.8.0,>=0.3.0\n",
      "  Downloading typer-0.7.0-py3-none-any.whl (38 kB)\n",
      "Collecting catalogue<2.1.0,>=2.0.6\n",
      "  Downloading catalogue-2.0.8-py3-none-any.whl (17 kB)\n",
      "Requirement already satisfied: tqdm<5.0.0,>=4.38.0 in c:\\users\\ashwin\\anaconda3\\lib\\site-packages (from spacy) (4.64.0)\n",
      "Collecting pathy>=0.10.0\n",
      "  Downloading pathy-0.10.1-py3-none-any.whl (48 kB)\n",
      "Collecting murmurhash<1.1.0,>=0.28.0\n",
      "  Downloading murmurhash-1.0.9-cp39-cp39-win_amd64.whl (18 kB)\n",
      "Collecting wasabi<1.2.0,>=0.9.1\n",
      "  Downloading wasabi-1.1.1-py3-none-any.whl (27 kB)\n",
      "Requirement already satisfied: packaging>=20.0 in c:\\users\\ashwin\\anaconda3\\lib\\site-packages (from spacy) (21.3)\n",
      "Collecting thinc<8.2.0,>=8.1.0\n",
      "  Downloading thinc-8.1.7-cp39-cp39-win_amd64.whl (1.3 MB)\n",
      "Collecting pydantic!=1.8,!=1.8.1,<1.11.0,>=1.7.4\n",
      "  Downloading pydantic-1.10.4-cp39-cp39-win_amd64.whl (2.1 MB)\n",
      "Requirement already satisfied: pyparsing!=3.0.5,>=2.0.2 in c:\\users\\ashwin\\anaconda3\\lib\\site-packages (from packaging>=20.0->spacy) (3.0.4)\n",
      "Collecting typing-extensions>=4.2.0\n",
      "  Downloading typing_extensions-4.4.0-py3-none-any.whl (26 kB)\n",
      "Requirement already satisfied: urllib3<1.27,>=1.21.1 in c:\\users\\ashwin\\anaconda3\\lib\\site-packages (from requests<3.0.0,>=2.13.0->spacy) (1.26.9)\n",
      "Requirement already satisfied: idna<4,>=2.5 in c:\\users\\ashwin\\anaconda3\\lib\\site-packages (from requests<3.0.0,>=2.13.0->spacy) (3.3)\n",
      "Requirement already satisfied: charset-normalizer~=2.0.0 in c:\\users\\ashwin\\anaconda3\\lib\\site-packages (from requests<3.0.0,>=2.13.0->spacy) (2.0.4)\n",
      "Requirement already satisfied: certifi>=2017.4.17 in c:\\users\\ashwin\\anaconda3\\lib\\site-packages (from requests<3.0.0,>=2.13.0->spacy) (2021.10.8)\n",
      "Collecting confection<1.0.0,>=0.0.1\n",
      "  Downloading confection-0.0.4-py3-none-any.whl (32 kB)\n",
      "Collecting blis<0.8.0,>=0.7.8\n",
      "  Downloading blis-0.7.9-cp39-cp39-win_amd64.whl (7.0 MB)\n",
      "Requirement already satisfied: colorama in c:\\users\\ashwin\\anaconda3\\lib\\site-packages (from tqdm<5.0.0,>=4.38.0->spacy) (0.4.4)\n",
      "Requirement already satisfied: click<9.0.0,>=7.1.1 in c:\\users\\ashwin\\anaconda3\\lib\\site-packages (from typer<0.8.0,>=0.3.0->spacy) (8.0.4)\n",
      "Collecting colorama\n",
      "  Downloading colorama-0.4.6-py2.py3-none-any.whl (25 kB)\n",
      "Requirement already satisfied: MarkupSafe>=0.23 in c:\\users\\ashwin\\anaconda3\\lib\\site-packages (from jinja2->spacy) (2.0.1)\n",
      "Installing collected packages: typing-extensions, colorama, catalogue, srsly, pydantic, murmurhash, cymem, wasabi, typer, smart-open, preshed, confection, blis, thinc, spacy-loggers, spacy-legacy, pathy, langcodes, spacy\n",
      "  Attempting uninstall: typing-extensions\n",
      "    Found existing installation: typing-extensions 4.1.1\n",
      "    Uninstalling typing-extensions-4.1.1:\n",
      "      Successfully uninstalled typing-extensions-4.1.1\n",
      "  Attempting uninstall: colorama\n",
      "    Found existing installation: colorama 0.4.4\n",
      "    Uninstalling colorama-0.4.4:\n",
      "      Successfully uninstalled colorama-0.4.4\n",
      "  Attempting uninstall: smart-open\n",
      "    Found existing installation: smart-open 5.1.0\n",
      "    Uninstalling smart-open-5.1.0:\n",
      "      Successfully uninstalled smart-open-5.1.0\n",
      "Successfully installed blis-0.7.9 catalogue-2.0.8 colorama-0.4.6 confection-0.0.4 cymem-2.0.7 langcodes-3.3.0 murmurhash-1.0.9 pathy-0.10.1 preshed-3.0.8 pydantic-1.10.4 smart-open-6.3.0 spacy-3.5.0 spacy-legacy-3.0.12 spacy-loggers-1.0.4 srsly-2.4.5 thinc-8.1.7 typer-0.7.0 typing-extensions-4.4.0 wasabi-1.1.1\n"
     ]
    }
   ],
   "source": [
    "! pip install spacy"
   ]
  },
  {
   "cell_type": "code",
   "execution_count": 8,
   "id": "71ac8e15",
   "metadata": {},
   "outputs": [],
   "source": [
    "import spacy\n",
    "import nltk\n",
    "from nltk.tokenize.toktok import ToktokTokenizer\n",
    "import re\n",
    "import unicodedata"
   ]
  },
  {
   "cell_type": "code",
   "execution_count": 9,
   "id": "417faaac",
   "metadata": {},
   "outputs": [],
   "source": [
    "def remove_special_characters(text, remove_digits=False):\n",
    "    pattern = r'[^a-zA-z0-9\\s]' if not remove_digits else r'[^a-zA-z\\s]'\n",
    "    text = re.sub(pattern, '', text)\n",
    "    return text"
   ]
  },
  {
   "cell_type": "code",
   "execution_count": 10,
   "id": "566d31ea",
   "metadata": {},
   "outputs": [],
   "source": [
    "df['removed']=df['title'].apply(remove_special_characters)"
   ]
  },
  {
   "cell_type": "code",
   "execution_count": 11,
   "id": "a5e1f324",
   "metadata": {},
   "outputs": [
    {
     "data": {
      "text/plain": [
       "0       Will honestly never fly them again if I can he...\n",
       "1       Very unprofessional for a renowned airline lik...\n",
       "2                     lounge was overcrowded and worn out\n",
       "3                                 very uncomfortable trip\n",
       "4                    rate this just as a mediocre journey\n",
       "                              ...                        \n",
       "1195                  nice flight with good cabin service\n",
       "1196                       they are just an embarrassment\n",
       "1197                               very good flight again\n",
       "1198                              expensive at 343 return\n",
       "1199                        staff were extremely friendly\n",
       "Name: removed, Length: 1200, dtype: object"
      ]
     },
     "execution_count": 11,
     "metadata": {},
     "output_type": "execute_result"
    }
   ],
   "source": [
    "df['removed']"
   ]
  },
  {
   "cell_type": "markdown",
   "id": "5e3033e0",
   "metadata": {},
   "source": [
    "# Text Lemmetization"
   ]
  },
  {
   "cell_type": "code",
   "execution_count": 18,
   "id": "9d45e522",
   "metadata": {},
   "outputs": [],
   "source": [
    "import requests\n",
    "from bs4 import BeautifulSoup\n",
    "import pandas as pd\n",
    "import numpy as np\n",
    "import matplotlib.pyplot as plt\n",
    "import seaborn as sns\n",
    "import os\n",
    "\n",
    "%matplotlib inline"
   ]
  },
  {
   "cell_type": "code",
   "execution_count": 16,
   "id": "0519e5b6",
   "metadata": {},
   "outputs": [
    {
     "name": "stderr",
     "output_type": "stream",
     "text": [
      "[nltk_data] Downloading package stopwords to\n",
      "[nltk_data]     C:\\Users\\Ashwin\\AppData\\Roaming\\nltk_data...\n",
      "[nltk_data]   Unzipping corpora\\stopwords.zip.\n"
     ]
    },
    {
     "data": {
      "text/plain": [
       "True"
      ]
     },
     "execution_count": 16,
     "metadata": {},
     "output_type": "execute_result"
    }
   ],
   "source": [
    "nltk.download('stopwords')"
   ]
  },
  {
   "cell_type": "code",
   "execution_count": 20,
   "id": "7cc42864",
   "metadata": {},
   "outputs": [],
   "source": [
    "# stemming"
   ]
  },
  {
   "cell_type": "code",
   "execution_count": 21,
   "id": "e41f9674",
   "metadata": {},
   "outputs": [],
   "source": [
    "def simple_stemmer(text):\n",
    "    ps = nltk.porter.PorterStemmer()\n",
    "    text = ' '.join([ps.stem(word) for word in text.split()])\n",
    "    return text"
   ]
  },
  {
   "cell_type": "code",
   "execution_count": 24,
   "id": "a8f2928a",
   "metadata": {},
   "outputs": [],
   "source": [
    "df['lemm']=df['removed'].apply(simple_stemmer)"
   ]
  },
  {
   "cell_type": "code",
   "execution_count": 25,
   "id": "8e188925",
   "metadata": {},
   "outputs": [],
   "source": [
    "# to remove stopword"
   ]
  },
  {
   "cell_type": "code",
   "execution_count": 26,
   "id": "20d340f8",
   "metadata": {},
   "outputs": [],
   "source": [
    "tokenizer = ToktokTokenizer()\n",
    "stopword_list = nltk.corpus.stopwords.words('english')\n",
    "stopword_list.remove('no')\n",
    "stopword_list.remove('not')"
   ]
  },
  {
   "cell_type": "code",
   "execution_count": 27,
   "id": "3a4c0e14",
   "metadata": {},
   "outputs": [],
   "source": [
    "def remove_stopwords(text, is_lower_case=False):\n",
    "    tokens = tokenizer.tokenize(text)\n",
    "    tokens = [token.strip() for token in tokens]\n",
    "    if is_lower_case:\n",
    "        filtered_tokens = [token for token in tokens if token not in stopword_list]\n",
    "    else:\n",
    "        filtered_tokens = [token for token in tokens if token.lower() not in stopword_list]\n",
    "    filtered_text = ' '.join(filtered_tokens)    \n",
    "    return filtered_text"
   ]
  },
  {
   "cell_type": "code",
   "execution_count": 29,
   "id": "606068f5",
   "metadata": {},
   "outputs": [],
   "source": [
    "df['after stop']=df['lemm'].apply(remove_stopwords)"
   ]
  },
  {
   "cell_type": "code",
   "execution_count": 30,
   "id": "a99f9b84",
   "metadata": {},
   "outputs": [],
   "source": [
    "# sentiment analysis"
   ]
  },
  {
   "cell_type": "code",
   "execution_count": 32,
   "id": "5b6e9bd6",
   "metadata": {},
   "outputs": [
    {
     "name": "stdout",
     "output_type": "stream",
     "text": [
      "Collecting afinn\n",
      "  Downloading afinn-0.1.tar.gz (52 kB)\n",
      "Building wheels for collected packages: afinn\n",
      "  Building wheel for afinn (setup.py): started\n",
      "  Building wheel for afinn (setup.py): finished with status 'done'\n",
      "  Created wheel for afinn: filename=afinn-0.1-py3-none-any.whl size=53447 sha256=fbe291c8cfd2bfcf1e2c64c316a7be9c35e55770d84b53e63125d0a56bac680d\n",
      "  Stored in directory: c:\\users\\ashwin\\appdata\\local\\pip\\cache\\wheels\\79\\91\\ee\\8374d9bc8c6c0896a2db75afdfd63d43653902407a0e76cd94\n",
      "Successfully built afinn\n",
      "Installing collected packages: afinn\n",
      "Successfully installed afinn-0.1\n"
     ]
    }
   ],
   "source": [
    "! pip install afinn"
   ]
  },
  {
   "cell_type": "code",
   "execution_count": 33,
   "id": "837ed17e",
   "metadata": {},
   "outputs": [],
   "source": [
    "from afinn import Afinn"
   ]
  },
  {
   "cell_type": "code",
   "execution_count": 34,
   "id": "8baea177",
   "metadata": {},
   "outputs": [],
   "source": [
    "af=Afinn()"
   ]
  },
  {
   "cell_type": "code",
   "execution_count": 35,
   "id": "03addfeb",
   "metadata": {},
   "outputs": [],
   "source": [
    "df['sentiment_score']=[af.score(x) for x in df['after stop']]"
   ]
  },
  {
   "cell_type": "code",
   "execution_count": 36,
   "id": "bd1dd989",
   "metadata": {},
   "outputs": [
    {
     "data": {
      "text/plain": [
       "0       2.0\n",
       "1       2.0\n",
       "2      -1.0\n",
       "3       0.0\n",
       "4       0.0\n",
       "       ... \n",
       "1195    6.0\n",
       "1196   -2.0\n",
       "1197    3.0\n",
       "1198    0.0\n",
       "1199    0.0\n",
       "Name: sentiment_score, Length: 1200, dtype: float64"
      ]
     },
     "execution_count": 36,
     "metadata": {},
     "output_type": "execute_result"
    }
   ],
   "source": [
    "df['sentiment_score']"
   ]
  },
  {
   "cell_type": "code",
   "execution_count": 39,
   "id": "e0c6b32c",
   "metadata": {},
   "outputs": [],
   "source": [
    "df['sentiment_score']=df['sentiment_score'].astype('int')"
   ]
  },
  {
   "cell_type": "code",
   "execution_count": 51,
   "id": "888be941",
   "metadata": {},
   "outputs": [],
   "source": [
    "def sco(x):\n",
    "    l=[]\n",
    "    for i in x:\n",
    "        if i<0:\n",
    "            l.append('negative')\n",
    "        elif i>0:\n",
    "            l.append('positive')\n",
    "        else:\n",
    "            l.append('neutral')\n",
    "    return l"
   ]
  },
  {
   "cell_type": "code",
   "execution_count": 54,
   "id": "8387549a",
   "metadata": {},
   "outputs": [],
   "source": [
    "df['cat_sent']=sco(df['sentiment_score'])"
   ]
  },
  {
   "cell_type": "code",
   "execution_count": 55,
   "id": "9dda7257",
   "metadata": {},
   "outputs": [
    {
     "data": {
      "text/plain": [
       "neutral     659\n",
       "positive    286\n",
       "negative    255\n",
       "Name: cat_sent, dtype: int64"
      ]
     },
     "execution_count": 55,
     "metadata": {},
     "output_type": "execute_result"
    }
   ],
   "source": [
    "df['cat_sent'].value_counts()"
   ]
  },
  {
   "cell_type": "code",
   "execution_count": 56,
   "id": "05cd40ed",
   "metadata": {},
   "outputs": [
    {
     "data": {
      "text/html": [
       "<div>\n",
       "<style scoped>\n",
       "    .dataframe tbody tr th:only-of-type {\n",
       "        vertical-align: middle;\n",
       "    }\n",
       "\n",
       "    .dataframe tbody tr th {\n",
       "        vertical-align: top;\n",
       "    }\n",
       "\n",
       "    .dataframe thead th {\n",
       "        text-align: right;\n",
       "    }\n",
       "</style>\n",
       "<table border=\"1\" class=\"dataframe\">\n",
       "  <thead>\n",
       "    <tr style=\"text-align: right;\">\n",
       "      <th></th>\n",
       "      <th>title</th>\n",
       "      <th>rating</th>\n",
       "      <th>review_date</th>\n",
       "      <th>review</th>\n",
       "      <th>trip_verified</th>\n",
       "      <th>aircraft</th>\n",
       "      <th>type_of_traveller</th>\n",
       "      <th>seat_type</th>\n",
       "      <th>route</th>\n",
       "      <th>date_flown</th>\n",
       "      <th>...</th>\n",
       "      <th>ground_service</th>\n",
       "      <th>value_for_money</th>\n",
       "      <th>wifi_and_connecticity</th>\n",
       "      <th>recommend</th>\n",
       "      <th>wifi_and_connectivity</th>\n",
       "      <th>removed</th>\n",
       "      <th>lemm</th>\n",
       "      <th>after stop</th>\n",
       "      <th>sentiment_score</th>\n",
       "      <th>cat_sent</th>\n",
       "    </tr>\n",
       "  </thead>\n",
       "  <tbody>\n",
       "    <tr>\n",
       "      <th>0</th>\n",
       "      <td>\"Will honestly never fly them again if I can h...</td>\n",
       "      <td>4</td>\n",
       "      <td>19/11/2022</td>\n",
       "      <td>Flew from Amman to London on Nov. 14 2022. Not...</td>\n",
       "      <td>True</td>\n",
       "      <td>NaN</td>\n",
       "      <td>Solo Leisure</td>\n",
       "      <td>Premium Economy</td>\n",
       "      <td>Amman Jordan to London UK (Heathrow)</td>\n",
       "      <td>Nov-22</td>\n",
       "      <td>...</td>\n",
       "      <td>4.0</td>\n",
       "      <td>2</td>\n",
       "      <td>NaN</td>\n",
       "      <td>False</td>\n",
       "      <td>NaN</td>\n",
       "      <td>Will honestly never fly them again if I can he...</td>\n",
       "      <td>will honestli never fli them again if i can he...</td>\n",
       "      <td>honestli never fli help</td>\n",
       "      <td>2</td>\n",
       "      <td>positive</td>\n",
       "    </tr>\n",
       "    <tr>\n",
       "      <th>1</th>\n",
       "      <td>\"Very unprofessional for a renowned airline li...</td>\n",
       "      <td>1</td>\n",
       "      <td>19/11/2022</td>\n",
       "      <td>This is the worst experience I have ever had w...</td>\n",
       "      <td>True</td>\n",
       "      <td>NaN</td>\n",
       "      <td>Solo Leisure</td>\n",
       "      <td>Economy Class</td>\n",
       "      <td>Dusseldorf to London via Los Angeles</td>\n",
       "      <td>Aug-22</td>\n",
       "      <td>...</td>\n",
       "      <td>1.0</td>\n",
       "      <td>1</td>\n",
       "      <td>NaN</td>\n",
       "      <td>False</td>\n",
       "      <td>1.0</td>\n",
       "      <td>Very unprofessional for a renowned airline lik...</td>\n",
       "      <td>veri unprofession for a renown airlin like ba</td>\n",
       "      <td>veri unprofession renown airlin like ba</td>\n",
       "      <td>2</td>\n",
       "      <td>positive</td>\n",
       "    </tr>\n",
       "    <tr>\n",
       "      <th>2</th>\n",
       "      <td>\"lounge was overcrowded and worn out\"</td>\n",
       "      <td>2</td>\n",
       "      <td>18/11/2022</td>\n",
       "      <td>Flying LHR T5 to CPT November 2022:  BA app an...</td>\n",
       "      <td>True</td>\n",
       "      <td>Boeing 777</td>\n",
       "      <td>Solo Leisure</td>\n",
       "      <td>Business Class</td>\n",
       "      <td>London to Cape Town</td>\n",
       "      <td>Nov-22</td>\n",
       "      <td>...</td>\n",
       "      <td>1.0</td>\n",
       "      <td>1</td>\n",
       "      <td>NaN</td>\n",
       "      <td>False</td>\n",
       "      <td>NaN</td>\n",
       "      <td>lounge was overcrowded and worn out</td>\n",
       "      <td>loung wa overcrowd and worn out</td>\n",
       "      <td>loung wa overcrowd worn</td>\n",
       "      <td>-1</td>\n",
       "      <td>negative</td>\n",
       "    </tr>\n",
       "    <tr>\n",
       "      <th>3</th>\n",
       "      <td>\"very uncomfortable trip\"</td>\n",
       "      <td>1</td>\n",
       "      <td>07/11/2022</td>\n",
       "      <td>Not Verified | Worst experience ever. Outbound...</td>\n",
       "      <td>False</td>\n",
       "      <td>NaN</td>\n",
       "      <td>Solo Leisure</td>\n",
       "      <td>Economy Class</td>\n",
       "      <td>Milan to Dallas via London</td>\n",
       "      <td>Nov-22</td>\n",
       "      <td>...</td>\n",
       "      <td>2.0</td>\n",
       "      <td>1</td>\n",
       "      <td>NaN</td>\n",
       "      <td>False</td>\n",
       "      <td>2.0</td>\n",
       "      <td>very uncomfortable trip</td>\n",
       "      <td>veri uncomfort trip</td>\n",
       "      <td>veri uncomfort trip</td>\n",
       "      <td>0</td>\n",
       "      <td>neutral</td>\n",
       "    </tr>\n",
       "    <tr>\n",
       "      <th>4</th>\n",
       "      <td>\"rate this just as a mediocre journey\"</td>\n",
       "      <td>5</td>\n",
       "      <td>07/11/2022</td>\n",
       "      <td>Check in was a shambles at BWI, just 3 counter...</td>\n",
       "      <td>True</td>\n",
       "      <td>Boeing 787-8</td>\n",
       "      <td>Solo Leisure</td>\n",
       "      <td>Economy Class</td>\n",
       "      <td>Baltimore to London Heathrow</td>\n",
       "      <td>Nov-22</td>\n",
       "      <td>...</td>\n",
       "      <td>2.0</td>\n",
       "      <td>3</td>\n",
       "      <td>NaN</td>\n",
       "      <td>True</td>\n",
       "      <td>NaN</td>\n",
       "      <td>rate this just as a mediocre journey</td>\n",
       "      <td>rate thi just as a mediocr journey</td>\n",
       "      <td>rate thi mediocr journey</td>\n",
       "      <td>0</td>\n",
       "      <td>neutral</td>\n",
       "    </tr>\n",
       "  </tbody>\n",
       "</table>\n",
       "<p>5 rows × 23 columns</p>\n",
       "</div>"
      ],
      "text/plain": [
       "                                               title  rating review_date  \\\n",
       "0  \"Will honestly never fly them again if I can h...       4  19/11/2022   \n",
       "1  \"Very unprofessional for a renowned airline li...       1  19/11/2022   \n",
       "2              \"lounge was overcrowded and worn out\"       2  18/11/2022   \n",
       "3                          \"very uncomfortable trip\"       1  07/11/2022   \n",
       "4             \"rate this just as a mediocre journey\"       5  07/11/2022   \n",
       "\n",
       "                                              review  trip_verified  \\\n",
       "0  Flew from Amman to London on Nov. 14 2022. Not...           True   \n",
       "1  This is the worst experience I have ever had w...           True   \n",
       "2  Flying LHR T5 to CPT November 2022:  BA app an...           True   \n",
       "3  Not Verified | Worst experience ever. Outbound...          False   \n",
       "4  Check in was a shambles at BWI, just 3 counter...           True   \n",
       "\n",
       "       aircraft type_of_traveller        seat_type  \\\n",
       "0           NaN      Solo Leisure  Premium Economy   \n",
       "1           NaN      Solo Leisure    Economy Class   \n",
       "2    Boeing 777      Solo Leisure   Business Class   \n",
       "3           NaN      Solo Leisure    Economy Class   \n",
       "4  Boeing 787-8      Solo Leisure    Economy Class   \n",
       "\n",
       "                                  route date_flown  ...  ground_service  \\\n",
       "0  Amman Jordan to London UK (Heathrow)     Nov-22  ...             4.0   \n",
       "1  Dusseldorf to London via Los Angeles     Aug-22  ...             1.0   \n",
       "2                   London to Cape Town     Nov-22  ...             1.0   \n",
       "3           Milan to Dallas via London      Nov-22  ...             2.0   \n",
       "4          Baltimore to London Heathrow     Nov-22  ...             2.0   \n",
       "\n",
       "   value_for_money wifi_and_connecticity  recommend  wifi_and_connectivity  \\\n",
       "0                2                   NaN      False                    NaN   \n",
       "1                1                   NaN      False                    1.0   \n",
       "2                1                   NaN      False                    NaN   \n",
       "3                1                   NaN      False                    2.0   \n",
       "4                3                   NaN       True                    NaN   \n",
       "\n",
       "                                             removed  \\\n",
       "0  Will honestly never fly them again if I can he...   \n",
       "1  Very unprofessional for a renowned airline lik...   \n",
       "2                lounge was overcrowded and worn out   \n",
       "3                            very uncomfortable trip   \n",
       "4               rate this just as a mediocre journey   \n",
       "\n",
       "                                                lemm  \\\n",
       "0  will honestli never fli them again if i can he...   \n",
       "1      veri unprofession for a renown airlin like ba   \n",
       "2                    loung wa overcrowd and worn out   \n",
       "3                                veri uncomfort trip   \n",
       "4                 rate thi just as a mediocr journey   \n",
       "\n",
       "                                after stop sentiment_score  cat_sent  \n",
       "0                  honestli never fli help               2  positive  \n",
       "1  veri unprofession renown airlin like ba               2  positive  \n",
       "2                  loung wa overcrowd worn              -1  negative  \n",
       "3                      veri uncomfort trip               0   neutral  \n",
       "4                 rate thi mediocr journey               0   neutral  \n",
       "\n",
       "[5 rows x 23 columns]"
      ]
     },
     "execution_count": 56,
     "metadata": {},
     "output_type": "execute_result"
    }
   ],
   "source": [
    "df.head()"
   ]
  },
  {
   "cell_type": "code",
   "execution_count": 57,
   "id": "a65dd169",
   "metadata": {},
   "outputs": [],
   "source": [
    "import seaborn as sns"
   ]
  },
  {
   "cell_type": "code",
   "execution_count": 58,
   "id": "57929323",
   "metadata": {},
   "outputs": [
    {
     "data": {
      "text/plain": [
       "<AxesSubplot:xlabel='cat_sent', ylabel='rating'>"
      ]
     },
     "execution_count": 58,
     "metadata": {},
     "output_type": "execute_result"
    },
    {
     "data": {
      "image/png": "[encoded data removed]",
      "text/plain": [
       "<Figure size 432x288 with 1 Axes>"
      ]
     },
     "metadata": {
      "needs_background": "light"
     },
     "output_type": "display_data"
    }
   ],
   "source": [
    "sns.barplot(x=df['cat_sent'],y=df['rating'])"
   ]
  },
  {
   "cell_type": "markdown",
   "id": "a9f25464",
   "metadata": {},
   "source": [
    "* It is clear from the data the customer who has given high review has given positive reviews.\n",
    "\n",
    "\n",
    "* The customers who gave less ratings are the customers that gave negative feedback"
   ]
  },
  {
   "cell_type": "code",
   "execution_count": 60,
   "id": "c3b7e8a7",
   "metadata": {},
   "outputs": [
    {
     "data": {
      "text/plain": [
       "<AxesSubplot:xlabel='trip_verified'>"
      ]
     },
     "execution_count": 60,
     "metadata": {},
     "output_type": "execute_result"
    },
    {
     "data": {
      "image/png": "[encoded data removed]",
      "text/plain": [
       "<Figure size 432x288 with 1 Axes>"
      ]
     },
     "metadata": {
      "needs_background": "light"
     },
     "output_type": "display_data"
    }
   ],
   "source": [
    "pd.crosstab(df['trip_verified'],df['cat_sent']).plot(kind='bar')"
   ]
  },
  {
   "cell_type": "code",
   "execution_count": 62,
   "id": "6d766b8f",
   "metadata": {},
   "outputs": [
    {
     "data": {
      "text/plain": [
       "Economy Class      651\n",
       "Business Class     394\n",
       "Premium Economy    102\n",
       "First Class         53\n",
       "Name: seat_type, dtype: int64"
      ]
     },
     "execution_count": 62,
     "metadata": {},
     "output_type": "execute_result"
    }
   ],
   "source": [
    "df['seat_type'].value_counts()"
   ]
  },
  {
   "cell_type": "code",
   "execution_count": 63,
   "id": "beb6c4c8",
   "metadata": {},
   "outputs": [
    {
     "data": {
      "text/plain": [
       "<AxesSubplot:xlabel='cat_sent'>"
      ]
     },
     "execution_count": 63,
     "metadata": {},
     "output_type": "execute_result"
    },
    {
     "data": {
      "image/png": "[encoded data removed]",
      "text/plain": [
       "<Figure size 432x288 with 1 Axes>"
      ]
     },
     "metadata": {
      "needs_background": "light"
     },
     "output_type": "display_data"
    }
   ],
   "source": [
    "pd.crosstab(df['cat_sent'],df['seat_type']).plot(kind='bar')"
   ]
  },
  {
   "cell_type": "markdown",
   "id": "8145f009",
   "metadata": {},
   "source": [
    "* The business class and economy class people both have high neutral reviews.\n",
    "\n",
    "\n",
    "* Economy class people gave high negative reviews\n",
    "\n",
    "\n",
    "* Since the customer travelling in economy is high they are high in all the category\n",
    "\n",
    "\n",
    "* Apart from economy class customers business class customers also gave high negative reviews"
   ]
  },
  {
   "cell_type": "code",
   "execution_count": null,
   "id": "556e3da9",
   "metadata": {},
   "outputs": [],
   "source": []
  }
 ],
 "metadata": {
  "kernelspec": {
   "display_name": "Python 3 (ipykernel)",
   "language": "python",
   "name": "python3"
  },
  "language_info": {
   "codemirror_mode": {
    "name": "ipython",
    "version": 3
   },
   "file_extension": ".py",
   "mimetype": "text/x-python",
   "name": "python",
   "nbconvert_exporter": "python",
   "pygments_lexer": "ipython3",
   "version": "3.9.12"
  }
 },
 "nbformat": 4,
 "nbformat_minor": 5
}
